{
 "cells": [
  {
   "cell_type": "code",
   "execution_count": 12,
   "metadata": {},
   "outputs": [
    {
     "name": "stdout",
     "output_type": "stream",
     "text": [
      "After the decoding the barcode :- \n",
      "Barcode Text :-  b'9300633929169'\n",
      "Barcode Type :-  EAN13\n"
     ]
    }
   ],
   "source": [
    "# Importing library\n",
    "import cv2\n",
    "from pyzbar.pyzbar import decode\n",
    "# Make one method to decode the barcode \n",
    "def BarcodeReader(image):\n",
    "    # read the image in numpy array using cv2\n",
    "    img = cv2.imread(image)\n",
    "    # Decode the barcode image\n",
    "    detectedBarcodes = decode(img)\n",
    "    # If not detected then print the message\n",
    "    if not detectedBarcodes:\n",
    "        print(\"Barcode Not Detected or your barcode is blank/corrupted!\")\n",
    "    else:\n",
    "        # Traveres through all the detected barcodes in image\n",
    "        for barcode in detectedBarcodes:  \n",
    "            # Locate the barcode position in image\n",
    "            (x, y, w, h) = barcode.rect\n",
    "            cv2.rectangle(img, (x-10, y-10),\n",
    "                          (x + w+10, y + h+10), \n",
    "                          (255, 0, 0), 2)\n",
    "            if barcode.data!=\"\":\n",
    "            # Print the barcode data\n",
    "                print(\"After the decoding the barcode :- \")\n",
    "                print(\"Barcode Text :- \" , barcode.data)\n",
    "                print(\"Barcode Type :- \" ,barcode.type)\n",
    "    #Display the image\n",
    "    cv2.imshow(\"Image\", img)\n",
    "    cv2.waitKey(0)\n",
    "    cv2.destroyAllWindows()\n",
    "if __name__ == \"__main__\":\n",
    "  # Take the image from user\n",
    "    image=\"C:\\Users\\sanjay\\Desktop\\img44.jpg\"\n",
    "    BarcodeReader(image)"
   ]
  },
  {
   "cell_type": "code",
   "execution_count": null,
   "metadata": {},
   "outputs": [],
   "source": []
  }
 ],
 "metadata": {
  "kernelspec": {
   "display_name": "Python 3",
   "language": "python",
   "name": "python3"
  },
  "language_info": {
   "codemirror_mode": {
    "name": "ipython",
    "version": 3
   },
   "file_extension": ".py",
   "mimetype": "text/x-python",
   "name": "python",
   "nbconvert_exporter": "python",
   "pygments_lexer": "ipython3",
   "version": "3.7.4"
  }
 },
 "nbformat": 4,
 "nbformat_minor": 2
}